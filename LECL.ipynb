{
 "cells": [
  {
   "cell_type": "code",
   "execution_count": 1,
   "id": "c725714e",
   "metadata": {},
   "outputs": [
    {
     "data": {
      "text/plain": [
       "True"
      ]
     },
     "execution_count": 1,
     "metadata": {},
     "output_type": "execute_result"
    }
   ],
   "source": [
    "from dotenv import load_dotenv\n",
    "\n",
    "load_dotenv()"
   ]
  },
  {
   "cell_type": "code",
   "execution_count": 2,
   "id": "4535c468",
   "metadata": {},
   "outputs": [
    {
     "name": "stdout",
     "output_type": "stream",
     "text": [
      "LangSmith 추적을 시작합니다.\n",
      "[프로젝트명]\n",
      "CH01-Basic\n"
     ]
    }
   ],
   "source": [
    "from langchain_teddynote import logging\n",
    "\n",
    "logging.langsmith('CH01-Basic')"
   ]
  },
  {
   "cell_type": "code",
   "execution_count": 19,
   "id": "7651a5be",
   "metadata": {},
   "outputs": [],
   "source": [
    "from langchain_core.prompts import PromptTemplate\n",
    "from langchain_openai import ChatOpenAI\n",
    "from langchain_core.output_parsers import StrOutputParser\n",
    "\n",
    "from langchain_teddynote.messages import stream_response"
   ]
  },
  {
   "cell_type": "markdown",
   "id": "39ae465f",
   "metadata": {},
   "source": [
    "# Chain 생성\n",
    "### LCEL(LangChain Expression Language)\n",
    "`chain = prompt | model | output_parser`\n"
   ]
  },
  {
   "cell_type": "code",
   "execution_count": 25,
   "id": "c919cb41",
   "metadata": {},
   "outputs": [],
   "source": [
    "prompt = PromptTemplate.from_template(\"{topic}에 대해 {how} 설명해줘\")\n",
    "\n",
    "model = ChatOpenAI()\n",
    "\n",
    "output_parser = StrOutputParser()\n",
    "\n",
    "chain = prompt | model | output_parser"
   ]
  },
  {
   "cell_type": "markdown",
   "id": "e4761935",
   "metadata": {},
   "source": [
    "### invoke() 호출\n",
    "- python 딕셔너리 형태로 입력값을 전달 "
   ]
  },
  {
   "cell_type": "code",
   "execution_count": 30,
   "id": "5156127a",
   "metadata": {},
   "outputs": [],
   "source": [
    "input = {\"topic\":\"인공지능 모델의 학습 원리\", \"how\":\"영어로\"}"
   ]
  },
  {
   "cell_type": "code",
   "execution_count": 31,
   "id": "a1e86d76",
   "metadata": {},
   "outputs": [],
   "source": [
    "answer = chain.stream(input)"
   ]
  },
  {
   "cell_type": "code",
   "execution_count": 32,
   "id": "8fb490a4",
   "metadata": {},
   "outputs": [
    {
     "name": "stdout",
     "output_type": "stream",
     "text": [
      "Artificial intelligence models learn through a process called machine learning, where they are trained on a large amount of data to identify patterns and relationships. The model is fed input data along with the corresponding output, and it adjusts its parameters in order to minimize the error between its predicted output and the actual output. This process is repeated many times until the model is able to make accurate predictions on new, unseen data. The goal is for the model to generalize from the training data and make reliable predictions on future data."
     ]
    }
   ],
   "source": [
    "stream_response(answer)"
   ]
  },
  {
   "cell_type": "code",
   "execution_count": null,
   "id": "0ab3e184",
   "metadata": {},
   "outputs": [],
   "source": []
  }
 ],
 "metadata": {
  "kernelspec": {
   "display_name": "3.11.9",
   "language": "python",
   "name": "python3"
  },
  "language_info": {
   "codemirror_mode": {
    "name": "ipython",
    "version": 3
   },
   "file_extension": ".py",
   "mimetype": "text/x-python",
   "name": "python",
   "nbconvert_exporter": "python",
   "pygments_lexer": "ipython3",
   "version": "3.11.9"
  }
 },
 "nbformat": 4,
 "nbformat_minor": 5
}
