{
 "cells": [
  {
   "cell_type": "code",
   "execution_count": 15,
   "id": "b559fbca",
   "metadata": {},
   "outputs": [
    {
     "data": {
      "text/plain": [
       "True"
      ]
     },
     "execution_count": 15,
     "metadata": {},
     "output_type": "execute_result"
    }
   ],
   "source": [
    "# API KEY를 환경변수로 관리하기 위한 파일 설정\n",
    "from dotenv import load_dotenv\n",
    "\n",
    "load_dotenv(dotenv_path='.env')"
   ]
  },
  {
   "cell_type": "code",
   "execution_count": 16,
   "id": "d6b5588a",
   "metadata": {},
   "outputs": [
    {
     "name": "stdout",
     "output_type": "stream",
     "text": [
      "LangSmith 추적을 시작합니다.\n",
      "[프로젝트명]\n",
      "Test\n"
     ]
    }
   ],
   "source": [
    "from langchain_teddynote import logging\n",
    "\n",
    "logging.langsmith(\"Test\")"
   ]
  },
  {
   "cell_type": "code",
   "execution_count": null,
   "id": "fe3c7548",
   "metadata": {},
   "outputs": [],
   "source": [
    "from langchain_core.prompts import ChatPromptTemplate\n",
    "from langchain_core.output_parsers import JsonOutputParser\n",
    "from pydantic import BaseModel, Field\n",
    "from langchain_openai import ChatOpenAI"
   ]
  },
  {
   "cell_type": "code",
   "execution_count": 21,
   "id": "f9478012",
   "metadata": {},
   "outputs": [],
   "source": [
    "prompt = PromptTemplate.from_template(\"{topic} 에 대해 쉽게 설명해주세요\")\n",
    "\n",
    "# OpenAI 객체를 생성합니다.\n",
    "model = ChatOpenAI(temperature=0, model_name=\"gpt-4o\")\n",
    "\n",
    "chain = prompt | model"
   ]
  },
  {
   "cell_type": "code",
   "execution_count": 22,
   "id": "bb9a9592",
   "metadata": {},
   "outputs": [],
   "source": [
    "input = {\"topic\" : \"인공지능 모델의 학습 원리\"}"
   ]
  },
  {
   "cell_type": "code",
   "execution_count": 24,
   "id": "68e75118",
   "metadata": {},
   "outputs": [],
   "source": [
    "answer=chain.invoke(input)"
   ]
  },
  {
   "cell_type": "code",
   "execution_count": 26,
   "id": "ba282256",
   "metadata": {},
   "outputs": [
    {
     "data": {
      "text/plain": [
       "{'token_usage': {'completion_tokens': 483,\n",
       "  'prompt_tokens': 21,\n",
       "  'total_tokens': 504,\n",
       "  'completion_tokens_details': {'accepted_prediction_tokens': 0,\n",
       "   'audio_tokens': 0,\n",
       "   'reasoning_tokens': 0,\n",
       "   'rejected_prediction_tokens': 0},\n",
       "  'prompt_tokens_details': {'audio_tokens': 0, 'cached_tokens': 0}},\n",
       " 'model_name': 'gpt-4o-2024-08-06',\n",
       " 'system_fingerprint': 'fp_07871e2ad8',\n",
       " 'id': 'chatcmpl-Bs6tSQi9dHkCi9HWuTqP7mVkdZ3V7',\n",
       " 'service_tier': 'default',\n",
       " 'finish_reason': 'stop',\n",
       " 'logprobs': None}"
      ]
     },
     "execution_count": 26,
     "metadata": {},
     "output_type": "execute_result"
    }
   ],
   "source": [
    "answer.content\n",
    "answer.response_metadata"
   ]
  },
  {
   "cell_type": "markdown",
   "id": "77459a3e",
   "metadata": {},
   "source": [
    "## OutputParser(출력파서)"
   ]
  },
  {
   "cell_type": "code",
   "execution_count": null,
   "id": "c762b32f",
   "metadata": {},
   "outputs": [],
   "source": [
    "from langchain_core.output_parsers import StrOutputParser\n",
    "\n",
    "\n",
    "output_parser = StrOutputParser()"
   ]
  },
  {
   "cell_type": "code",
   "execution_count": null,
   "id": "8aed8234",
   "metadata": {},
   "outputs": [],
   "source": [
    "# prompt, model, output_parser 를 연결하여 처리 체인을 구성\n",
    "chain = prompt | model | output_parser"
   ]
  },
  {
   "cell_type": "code",
   "execution_count": 31,
   "id": "739f81d6",
   "metadata": {},
   "outputs": [
    {
     "data": {
      "text/plain": [
       "'인공지능 모델의 학습 원리를 쉽게 설명하자면, 주로 \"기계 학습\"이라는 개념을 통해 이루어집니다. 기계 학습은 컴퓨터가 데이터를 통해 스스로 학습하고, 그 데이터를 기반으로 패턴을 인식하거나 예측을 수행하는 방법입니다. 이를 이해하기 쉽게 비유하자면, 아이가 새로운 것을 배우는 과정과 비슷합니다.\\n\\n1. **데이터 수집**: 먼저, 모델이 학습할 수 있도록 많은 데이터를 수집합니다. 예를 들어, 고양이와 개를 구분하는 모델을 만들고 싶다면, 다양한 고양이와 개의 사진이 필요합니다.\\n\\n2. **데이터 전처리**: 수집한 데이터를 모델이 이해할 수 있는 형태로 정리합니다. 사진의 크기를 조정하거나, 불필요한 정보를 제거하는 과정이 포함됩니다.\\n\\n3. **모델 선택**: 문제에 적합한 알고리즘이나 모델을 선택합니다. 이는 문제의 특성에 따라 다르며, 이미지 인식, 자연어 처리 등 다양한 분야에 맞는 모델이 존재합니다.\\n\\n4. **훈련(Training)**: 모델에 데이터를 입력하고, 정답(레이블)을 알려주면서 학습시킵니다. 이 과정에서 모델은 입력 데이터와 정답 간의 관계를 학습합니다. 예를 들어, 고양이 사진을 보여주고 \"이것은 고양이입니다\"라고 알려주는 것입니다.\\n\\n5. **평가(Evaluation)**: 학습이 끝난 모델의 성능을 평가합니다. 이를 위해 모델이 보지 못한 새로운 데이터를 사용하여 얼마나 정확하게 예측하는지 확인합니다.\\n\\n6. **조정 및 개선**: 평가 결과를 바탕으로 모델을 조정하고 개선합니다. 필요에 따라 모델의 구조를 변경하거나, 더 많은 데이터를 사용하여 다시 학습시킬 수 있습니다.\\n\\n이러한 과정을 통해 인공지능 모델은 점점 더 정확하게 데이터를 이해하고 예측할 수 있게 됩니다. 중요한 점은, 모델이 학습할 수 있는 데이터의 양과 질이 모델의 성능에 큰 영향을 미친다는 것입니다.'"
      ]
     },
     "execution_count": 31,
     "metadata": {},
     "output_type": "execute_result"
    }
   ],
   "source": [
    "input = {\"topic\" : \"인공지능 모델의 학습 원리\"}\n",
    "chain.invoke(input)"
   ]
  },
  {
   "cell_type": "code",
   "execution_count": 36,
   "id": "9c9395f5",
   "metadata": {},
   "outputs": [],
   "source": [
    "template = \"\"\"\n",
    "당신은 영어를 가르치는 10년차 영어 선생님입니다. 주어진 상황에 맞는 영어 회화를 작성해주세요.\n",
    "양식은 [FORMAT]에 맞춰 작성해주세요.\n",
    "\n",
    "#상황:\n",
    "{question}\n",
    "\n",
    "#FORMAT:\n",
    "- 영어 회화:\n",
    "- 한글 해석:\n",
    "\"\"\"\n",
    "\n",
    "# 프롬프트 템플릿을 이용하여 프롬프트를  생성\n",
    "prompt = PromptTemplate.from_template(template)\n",
    "\n",
    "# ChatOpenAI 첫모델을 초기화\n",
    "model = ChatOpenAI(model_name=\"gpt-4-turbo\")\n",
    "\n",
    "# 문자열 출력 파서를 초기화\n",
    "output_parser = StrOutputParser()"
   ]
  },
  {
   "cell_type": "code",
   "execution_count": 37,
   "id": "39e55409",
   "metadata": {},
   "outputs": [],
   "source": [
    "# pippe 연산자 활용\n",
    "chain = prompt | model | output_parser"
   ]
  },
  {
   "cell_type": "code",
   "execution_count": 39,
   "id": "3b4917c4",
   "metadata": {},
   "outputs": [
    {
     "name": "stdout",
     "output_type": "stream",
     "text": [
      "#영어 회화:\n",
      "**Tourist:** Excuse me, can you help me find the Metropolitan Museum of Art?\n",
      "**Local:** Sure! You want to go straight on this street for about 3 blocks until you hit the traffic light. Then, take a left and continue for about 2 more blocks. The museum will be on your right.\n",
      "**Tourist:** Thank you so much! Should I expect to see any landmarks along the way to make sure I’m on the right track?\n",
      "**Local:** Yes, you will pass a large library on the corner just before you turn left, and as you get closer to the museum, you'll see a small park on your right. Both are good checkpoints.\n",
      "**Tourist:** Great! Thanks for the help!\n",
      "**Local:** You're welcome! Enjoy your visit!\n",
      "\n",
      "#한글 해석:\n",
      "**관광객:** 실례합니다, 메트로폴리탄 미술관을 어떻게 가면 되나요?\n",
      "**지역주민:** 물론이죠! 이 길을 따라 약 3블록을 직진하시다가 신호등이 있는 곳에서 좌회전하세요. 그다음에 두 블록 더 가시면 미술관이 오른쪽에 있을 거예요.\n",
      "**관광객:** 정말 감사합니다! 제가 올바른 길을 가고 있는지 확인할 수 있는 랜드마크가 있을까요?\n",
      "**지역주민:** 네, 좌회전하기 바로 전에 큰 도서관이 모퉁이에 있고, 미술관에 가까워지면 오른쪽에 작은 공원이 보일 거예요. 두 곳 모두 좋은 지표가 될 겁니다.\n",
      "**관광객:** 좋습니다! 도움을 주셔서 감사합니다!\n",
      "**지역주민:** 천만에요! 방문 즐기세요!\n"
     ]
    }
   ],
   "source": [
    "print(chain.invoke({\"question\" : \"영어로 길을 묻는 상황을 만들어주세요.\"}))"
   ]
  },
  {
   "cell_type": "code",
   "execution_count": 43,
   "id": "742c6392",
   "metadata": {},
   "outputs": [],
   "source": [
    "from langchain_teddynote.messages import stream_response\n",
    "\n",
    "answer= chain.stream({\"question\" : \"영어로 길을 묻는 상황을 만들어주세요.\"})"
   ]
  },
  {
   "cell_type": "code",
   "execution_count": 44,
   "id": "4a0b9f9f",
   "metadata": {},
   "outputs": [
    {
     "name": "stdout",
     "output_type": "stream",
     "text": [
      "#상황:\n",
      "영어로 길을 묻는 상황을 만들어주세요.\n",
      "\n",
      "#FORMAT:\n",
      "- 영어 회화:\n",
      "  Person A: Excuse me, could you help me? I'm trying to find the nearest subway station.\n",
      "  Person B: Sure, no problem. Just go straight down this street for about two blocks, then turn left. You'll see the entrance to the subway station on your right hand side.\n",
      "  Person A: Thank you so much! And how do I get a ticket once I'm there?\n",
      "  Person B: Once you enter the station, you'll see ticket machines to your left. They are easy to use and you can pay by cash or card.\n",
      "  Person A: Great, thanks for all your help!\n",
      "  Person B: You're welcome. Have a good day!\n",
      "\n",
      "- 한글 해석:\n",
      "  A: 실례합니다, 도와주실 수 있나요? 가까운 지하철 역을 찾고 있어요.\n",
      "  B: 물론이죠, 문제 없어요. 이 길을 따라서 두 블록 정도 직진하신 다음에 왼쪽으로 꺾으세요. 지하철 역 입구를 오른쪽에 보실 거예요.\n",
      "  A: 정말 고맙습니다! 거기 가서 표는 어떻게 사나요?\n",
      "  B: 역에 들어서시면 왼쪽에 표를 파는 기계가 있을 거예요. 사용하기 쉽고 현금이나 카드로 결제 가능합니다.\n",
      "  A: 좋네요, 도움 주셔서 감사합니다!\n",
      "  B: 천만에요. 좋은 하루 되세요!"
     ]
    }
   ],
   "source": [
    "stream_response(answer)"
   ]
  }
 ],
 "metadata": {
  "kernelspec": {
   "display_name": "3.11.9",
   "language": "python",
   "name": "python3"
  },
  "language_info": {
   "codemirror_mode": {
    "name": "ipython",
    "version": 3
   },
   "file_extension": ".py",
   "mimetype": "text/x-python",
   "name": "python",
   "nbconvert_exporter": "python",
   "pygments_lexer": "ipython3",
   "version": "3.11.9"
  }
 },
 "nbformat": 4,
 "nbformat_minor": 5
}
