{
 "cells": [
  {
   "cell_type": "code",
   "execution_count": 5,
   "id": "a88adc95",
   "metadata": {},
   "outputs": [
    {
     "data": {
      "text/plain": [
       "True"
      ]
     },
     "execution_count": 5,
     "metadata": {},
     "output_type": "execute_result"
    }
   ],
   "source": [
    "from dotenv import load_dotenv\n",
    "\n",
    "load_dotenv()"
   ]
  },
  {
   "cell_type": "code",
   "execution_count": 6,
   "id": "94711c0f",
   "metadata": {},
   "outputs": [
    {
     "name": "stdout",
     "output_type": "stream",
     "text": [
      "LangSmith 추적을 시작합니다.\n",
      "[프로젝트명]\n",
      "RAG-Basic-PDF\n"
     ]
    }
   ],
   "source": [
    "from langchain_teddynote import logging\n",
    "\n",
    "logging.langsmith('RAG-Basic-PDF')"
   ]
  },
  {
   "cell_type": "markdown",
   "id": "e8cd3dc2",
   "metadata": {},
   "source": [
    "# RAG 프로세스\n",
    "### 사전단계\n",
    "1. 문서 로드(Load)\n",
    "2. 분할(Split)\n",
    "3. 임베딩(Embedding)\n",
    "4. 벡터DB(VectorStore)\n",
    "\n",
    "### 수행단계\n",
    "5. 검색(Retrieval)\n",
    "6. 프롬프트(Prompt)\n",
    "7. 모델(LLM)\n",
    "8. 결과(Output)"
   ]
  },
  {
   "cell_type": "code",
   "execution_count": null,
   "id": "38d08519",
   "metadata": {},
   "outputs": [
    {
     "name": "stdout",
     "output_type": "stream",
     "text": [
      "Collecting langchain-community\n",
      "  Downloading langchain_community-0.3.27-py3-none-any.whl.metadata (2.9 kB)\n",
      "Requirement already satisfied: langchain-core<1.0.0,>=0.3.66 in c:\\users\\thdck\\.pyenv\\pyenv-win\\versions\\3.11.9\\lib\\site-packages (from langchain-community) (0.3.68)\n",
      "Requirement already satisfied: langchain<1.0.0,>=0.3.26 in c:\\users\\thdck\\.pyenv\\pyenv-win\\versions\\3.11.9\\lib\\site-packages (from langchain-community) (0.3.26)\n",
      "Requirement already satisfied: SQLAlchemy<3,>=1.4 in c:\\users\\thdck\\.pyenv\\pyenv-win\\versions\\3.11.9\\lib\\site-packages (from langchain-community) (2.0.41)\n",
      "Requirement already satisfied: requests<3,>=2 in c:\\users\\thdck\\.pyenv\\pyenv-win\\versions\\3.11.9\\lib\\site-packages (from langchain-community) (2.32.4)\n",
      "Requirement already satisfied: PyYAML>=5.3 in c:\\users\\thdck\\.pyenv\\pyenv-win\\versions\\3.11.9\\lib\\site-packages (from langchain-community) (6.0.2)\n",
      "Collecting aiohttp<4.0.0,>=3.8.3 (from langchain-community)\n",
      "  Using cached aiohttp-3.12.14-cp311-cp311-win_amd64.whl.metadata (7.9 kB)\n",
      "Requirement already satisfied: tenacity!=8.4.0,<10,>=8.1.0 in c:\\users\\thdck\\.pyenv\\pyenv-win\\versions\\3.11.9\\lib\\site-packages (from langchain-community) (9.1.2)\n",
      "Collecting dataclasses-json<0.7,>=0.5.7 (from langchain-community)\n",
      "  Using cached dataclasses_json-0.6.7-py3-none-any.whl.metadata (25 kB)\n",
      "Collecting pydantic-settings<3.0.0,>=2.4.0 (from langchain-community)\n",
      "  Using cached pydantic_settings-2.10.1-py3-none-any.whl.metadata (3.4 kB)\n",
      "Requirement already satisfied: langsmith>=0.1.125 in c:\\users\\thdck\\.pyenv\\pyenv-win\\versions\\3.11.9\\lib\\site-packages (from langchain-community) (0.4.4)\n",
      "Collecting httpx-sse<1.0.0,>=0.4.0 (from langchain-community)\n",
      "  Using cached httpx_sse-0.4.1-py3-none-any.whl.metadata (9.4 kB)\n",
      "Requirement already satisfied: numpy>=1.26.2 in c:\\users\\thdck\\.pyenv\\pyenv-win\\versions\\3.11.9\\lib\\site-packages (from langchain-community) (1.26.4)\n",
      "Collecting aiohappyeyeballs>=2.5.0 (from aiohttp<4.0.0,>=3.8.3->langchain-community)\n",
      "  Using cached aiohappyeyeballs-2.6.1-py3-none-any.whl.metadata (5.9 kB)\n",
      "Collecting aiosignal>=1.4.0 (from aiohttp<4.0.0,>=3.8.3->langchain-community)\n",
      "  Using cached aiosignal-1.4.0-py3-none-any.whl.metadata (3.7 kB)\n",
      "Collecting attrs>=17.3.0 (from aiohttp<4.0.0,>=3.8.3->langchain-community)\n",
      "  Using cached attrs-25.3.0-py3-none-any.whl.metadata (10 kB)\n",
      "Collecting frozenlist>=1.1.1 (from aiohttp<4.0.0,>=3.8.3->langchain-community)\n",
      "  Using cached frozenlist-1.7.0-cp311-cp311-win_amd64.whl.metadata (19 kB)\n",
      "Collecting multidict<7.0,>=4.5 (from aiohttp<4.0.0,>=3.8.3->langchain-community)\n",
      "  Using cached multidict-6.6.3-cp311-cp311-win_amd64.whl.metadata (5.4 kB)\n",
      "Collecting propcache>=0.2.0 (from aiohttp<4.0.0,>=3.8.3->langchain-community)\n",
      "  Using cached propcache-0.3.2-cp311-cp311-win_amd64.whl.metadata (12 kB)\n",
      "Collecting yarl<2.0,>=1.17.0 (from aiohttp<4.0.0,>=3.8.3->langchain-community)\n",
      "  Using cached yarl-1.20.1-cp311-cp311-win_amd64.whl.metadata (76 kB)\n",
      "Collecting marshmallow<4.0.0,>=3.18.0 (from dataclasses-json<0.7,>=0.5.7->langchain-community)\n",
      "  Using cached marshmallow-3.26.1-py3-none-any.whl.metadata (7.3 kB)\n",
      "Collecting typing-inspect<1,>=0.4.0 (from dataclasses-json<0.7,>=0.5.7->langchain-community)\n",
      "  Using cached typing_inspect-0.9.0-py3-none-any.whl.metadata (1.5 kB)\n",
      "Requirement already satisfied: langchain-text-splitters<1.0.0,>=0.3.8 in c:\\users\\thdck\\.pyenv\\pyenv-win\\versions\\3.11.9\\lib\\site-packages (from langchain<1.0.0,>=0.3.26->langchain-community) (0.3.8)\n",
      "Requirement already satisfied: pydantic<3.0.0,>=2.7.4 in c:\\users\\thdck\\.pyenv\\pyenv-win\\versions\\3.11.9\\lib\\site-packages (from langchain<1.0.0,>=0.3.26->langchain-community) (2.11.7)\n",
      "Requirement already satisfied: jsonpatch<2.0,>=1.33 in c:\\users\\thdck\\.pyenv\\pyenv-win\\versions\\3.11.9\\lib\\site-packages (from langchain-core<1.0.0,>=0.3.66->langchain-community) (1.33)\n",
      "Requirement already satisfied: packaging<25,>=23.2 in c:\\users\\thdck\\.pyenv\\pyenv-win\\versions\\3.11.9\\lib\\site-packages (from langchain-core<1.0.0,>=0.3.66->langchain-community) (24.2)\n",
      "Requirement already satisfied: typing-extensions>=4.7 in c:\\users\\thdck\\.pyenv\\pyenv-win\\versions\\3.11.9\\lib\\site-packages (from langchain-core<1.0.0,>=0.3.66->langchain-community) (4.14.0)\n",
      "Requirement already satisfied: httpx<1,>=0.23.0 in c:\\users\\thdck\\.pyenv\\pyenv-win\\versions\\3.11.9\\lib\\site-packages (from langsmith>=0.1.125->langchain-community) (0.28.1)\n",
      "Requirement already satisfied: orjson<4.0.0,>=3.9.14 in c:\\users\\thdck\\.pyenv\\pyenv-win\\versions\\3.11.9\\lib\\site-packages (from langsmith>=0.1.125->langchain-community) (3.10.18)\n",
      "Requirement already satisfied: requests-toolbelt<2.0.0,>=1.0.0 in c:\\users\\thdck\\.pyenv\\pyenv-win\\versions\\3.11.9\\lib\\site-packages (from langsmith>=0.1.125->langchain-community) (1.0.0)\n",
      "Requirement already satisfied: zstandard<0.24.0,>=0.23.0 in c:\\users\\thdck\\.pyenv\\pyenv-win\\versions\\3.11.9\\lib\\site-packages (from langsmith>=0.1.125->langchain-community) (0.23.0)\n",
      "Requirement already satisfied: python-dotenv>=0.21.0 in c:\\users\\thdck\\.pyenv\\pyenv-win\\versions\\3.11.9\\lib\\site-packages (from pydantic-settings<3.0.0,>=2.4.0->langchain-community) (1.1.1)\n",
      "Requirement already satisfied: typing-inspection>=0.4.0 in c:\\users\\thdck\\.pyenv\\pyenv-win\\versions\\3.11.9\\lib\\site-packages (from pydantic-settings<3.0.0,>=2.4.0->langchain-community) (0.4.1)\n",
      "Requirement already satisfied: charset_normalizer<4,>=2 in c:\\users\\thdck\\.pyenv\\pyenv-win\\versions\\3.11.9\\lib\\site-packages (from requests<3,>=2->langchain-community) (3.4.2)\n",
      "Requirement already satisfied: idna<4,>=2.5 in c:\\users\\thdck\\.pyenv\\pyenv-win\\versions\\3.11.9\\lib\\site-packages (from requests<3,>=2->langchain-community) (3.10)\n",
      "Requirement already satisfied: urllib3<3,>=1.21.1 in c:\\users\\thdck\\.pyenv\\pyenv-win\\versions\\3.11.9\\lib\\site-packages (from requests<3,>=2->langchain-community) (2.5.0)\n",
      "Requirement already satisfied: certifi>=2017.4.17 in c:\\users\\thdck\\.pyenv\\pyenv-win\\versions\\3.11.9\\lib\\site-packages (from requests<3,>=2->langchain-community) (2025.6.15)\n",
      "Requirement already satisfied: greenlet>=1 in c:\\users\\thdck\\.pyenv\\pyenv-win\\versions\\3.11.9\\lib\\site-packages (from SQLAlchemy<3,>=1.4->langchain-community) (3.2.3)\n",
      "Requirement already satisfied: anyio in c:\\users\\thdck\\.pyenv\\pyenv-win\\versions\\3.11.9\\lib\\site-packages (from httpx<1,>=0.23.0->langsmith>=0.1.125->langchain-community) (4.9.0)\n",
      "Requirement already satisfied: httpcore==1.* in c:\\users\\thdck\\.pyenv\\pyenv-win\\versions\\3.11.9\\lib\\site-packages (from httpx<1,>=0.23.0->langsmith>=0.1.125->langchain-community) (1.0.9)\n",
      "Requirement already satisfied: h11>=0.16 in c:\\users\\thdck\\.pyenv\\pyenv-win\\versions\\3.11.9\\lib\\site-packages (from httpcore==1.*->httpx<1,>=0.23.0->langsmith>=0.1.125->langchain-community) (0.16.0)\n",
      "Requirement already satisfied: jsonpointer>=1.9 in c:\\users\\thdck\\.pyenv\\pyenv-win\\versions\\3.11.9\\lib\\site-packages (from jsonpatch<2.0,>=1.33->langchain-core<1.0.0,>=0.3.66->langchain-community) (3.0.0)\n",
      "Requirement already satisfied: annotated-types>=0.6.0 in c:\\users\\thdck\\.pyenv\\pyenv-win\\versions\\3.11.9\\lib\\site-packages (from pydantic<3.0.0,>=2.7.4->langchain<1.0.0,>=0.3.26->langchain-community) (0.7.0)\n",
      "Requirement already satisfied: pydantic-core==2.33.2 in c:\\users\\thdck\\.pyenv\\pyenv-win\\versions\\3.11.9\\lib\\site-packages (from pydantic<3.0.0,>=2.7.4->langchain<1.0.0,>=0.3.26->langchain-community) (2.33.2)\n",
      "Collecting mypy-extensions>=0.3.0 (from typing-inspect<1,>=0.4.0->dataclasses-json<0.7,>=0.5.7->langchain-community)\n",
      "  Using cached mypy_extensions-1.1.0-py3-none-any.whl.metadata (1.1 kB)\n",
      "Requirement already satisfied: sniffio>=1.1 in c:\\users\\thdck\\.pyenv\\pyenv-win\\versions\\3.11.9\\lib\\site-packages (from anyio->httpx<1,>=0.23.0->langsmith>=0.1.125->langchain-community) (1.3.1)\n",
      "Downloading langchain_community-0.3.27-py3-none-any.whl (2.5 MB)\n",
      "   ---------------------------------------- 0.0/2.5 MB ? eta -:--:--\n",
      "   ---------------------------------------- 0.0/2.5 MB 1.3 MB/s eta 0:00:02\n",
      "   --- ------------------------------------ 0.2/2.5 MB 2.9 MB/s eta 0:00:01\n",
      "   ---------- ----------------------------- 0.7/2.5 MB 5.9 MB/s eta 0:00:01\n",
      "   ------------- -------------------------- 0.9/2.5 MB 6.1 MB/s eta 0:00:01\n",
      "   ------------------------ --------------- 1.5/2.5 MB 8.1 MB/s eta 0:00:01\n",
      "   -------------------------------- ------- 2.0/2.5 MB 8.7 MB/s eta 0:00:01\n",
      "   ---------------------------------------  2.5/2.5 MB 9.4 MB/s eta 0:00:01\n",
      "   ---------------------------------------- 2.5/2.5 MB 8.5 MB/s eta 0:00:00\n",
      "Using cached aiohttp-3.12.14-cp311-cp311-win_amd64.whl (452 kB)\n",
      "Using cached dataclasses_json-0.6.7-py3-none-any.whl (28 kB)\n",
      "Downloading httpx_sse-0.4.1-py3-none-any.whl (8.1 kB)\n",
      "Using cached pydantic_settings-2.10.1-py3-none-any.whl (45 kB)\n",
      "Using cached aiohappyeyeballs-2.6.1-py3-none-any.whl (15 kB)\n",
      "Using cached aiosignal-1.4.0-py3-none-any.whl (7.5 kB)\n",
      "Using cached attrs-25.3.0-py3-none-any.whl (63 kB)\n",
      "Using cached frozenlist-1.7.0-cp311-cp311-win_amd64.whl (44 kB)\n",
      "Using cached marshmallow-3.26.1-py3-none-any.whl (50 kB)\n",
      "Using cached multidict-6.6.3-cp311-cp311-win_amd64.whl (45 kB)\n",
      "Using cached propcache-0.3.2-cp311-cp311-win_amd64.whl (41 kB)\n",
      "Using cached typing_inspect-0.9.0-py3-none-any.whl (8.8 kB)\n",
      "Using cached yarl-1.20.1-cp311-cp311-win_amd64.whl (86 kB)\n",
      "Using cached mypy_extensions-1.1.0-py3-none-any.whl (5.0 kB)\n",
      "Installing collected packages: propcache, mypy-extensions, multidict, marshmallow, httpx-sse, frozenlist, attrs, aiohappyeyeballs, yarl, typing-inspect, aiosignal, pydantic-settings, dataclasses-json, aiohttp, langchain-community\n",
      "Successfully installed aiohappyeyeballs-2.6.1 aiohttp-3.12.14 aiosignal-1.4.0 attrs-25.3.0 dataclasses-json-0.6.7 frozenlist-1.7.0 httpx-sse-0.4.1 langchain-community-0.3.27 marshmallow-3.26.1 multidict-6.6.3 mypy-extensions-1.1.0 propcache-0.3.2 pydantic-settings-2.10.1 typing-inspect-0.9.0 yarl-1.20.1\n"
     ]
    },
    {
     "name": "stderr",
     "output_type": "stream",
     "text": [
      "\n",
      "[notice] A new release of pip is available: 24.0 -> 25.1.1\n",
      "[notice] To update, run: python.exe -m pip install --upgrade pip\n"
     ]
    }
   ],
   "source": [
    "# !pip install langchain-community"
   ]
  },
  {
   "cell_type": "code",
   "execution_count": null,
   "id": "e93f5dda",
   "metadata": {},
   "outputs": [
    {
     "name": "stdout",
     "output_type": "stream",
     "text": [
      "Collecting pymupdf\n",
      "  Downloading pymupdf-1.26.3-cp39-abi3-win_amd64.whl.metadata (3.4 kB)\n",
      "Downloading pymupdf-1.26.3-cp39-abi3-win_amd64.whl (18.7 MB)\n",
      "   ---------------------------------------- 0.0/18.7 MB ? eta -:--:--\n",
      "   ---------------------------------------- 0.0/18.7 MB ? eta -:--:--\n",
      "    --------------------------------------- 0.3/18.7 MB 4.3 MB/s eta 0:00:05\n",
      "   - -------------------------------------- 0.6/18.7 MB 5.8 MB/s eta 0:00:04\n",
      "   -- ------------------------------------- 1.1/18.7 MB 6.9 MB/s eta 0:00:03\n",
      "   --- ------------------------------------ 1.5/18.7 MB 7.4 MB/s eta 0:00:03\n",
      "   ---- ----------------------------------- 2.0/18.7 MB 8.6 MB/s eta 0:00:02\n",
      "   ----- ---------------------------------- 2.5/18.7 MB 8.7 MB/s eta 0:00:02\n",
      "   ------ --------------------------------- 3.0/18.7 MB 9.1 MB/s eta 0:00:02\n",
      "   ------- -------------------------------- 3.6/18.7 MB 9.5 MB/s eta 0:00:02\n",
      "   -------- ------------------------------- 4.2/18.7 MB 9.9 MB/s eta 0:00:02\n",
      "   ---------- ----------------------------- 4.8/18.7 MB 9.9 MB/s eta 0:00:02\n",
      "   ----------- ---------------------------- 5.2/18.7 MB 10.1 MB/s eta 0:00:02\n",
      "   ----------- ---------------------------- 5.2/18.7 MB 10.1 MB/s eta 0:00:02\n",
      "   ----------- ---------------------------- 5.2/18.7 MB 10.1 MB/s eta 0:00:02\n",
      "   ----------- ---------------------------- 5.6/18.7 MB 8.7 MB/s eta 0:00:02\n",
      "   ------------- -------------------------- 6.2/18.7 MB 8.8 MB/s eta 0:00:02\n",
      "   -------------- ------------------------- 6.7/18.7 MB 9.2 MB/s eta 0:00:02\n",
      "   --------------- ------------------------ 7.1/18.7 MB 9.3 MB/s eta 0:00:02\n",
      "   ---------------- ----------------------- 7.9/18.7 MB 9.3 MB/s eta 0:00:02\n",
      "   ------------------ --------------------- 8.4/18.7 MB 9.5 MB/s eta 0:00:02\n",
      "   ------------------- -------------------- 9.0/18.7 MB 9.6 MB/s eta 0:00:02\n",
      "   -------------------- ------------------- 9.6/18.7 MB 9.8 MB/s eta 0:00:01\n",
      "   --------------------- ------------------ 10.1/18.7 MB 9.8 MB/s eta 0:00:01\n",
      "   ---------------------- ----------------- 10.6/18.7 MB 10.4 MB/s eta 0:00:01\n",
      "   ----------------------- ---------------- 11.2/18.7 MB 10.4 MB/s eta 0:00:01\n",
      "   ------------------------ --------------- 11.6/18.7 MB 10.6 MB/s eta 0:00:01\n",
      "   -------------------------- ------------- 12.2/18.7 MB 10.6 MB/s eta 0:00:01\n",
      "   -------------------------- ------------- 12.6/18.7 MB 10.6 MB/s eta 0:00:01\n",
      "   ---------------------------- ----------- 13.2/18.7 MB 10.6 MB/s eta 0:00:01\n",
      "   ----------------------------- ---------- 13.8/18.7 MB 10.4 MB/s eta 0:00:01\n",
      "   ------------------------------ --------- 14.4/18.7 MB 10.6 MB/s eta 0:00:01\n",
      "   ------------------------------- -------- 15.0/18.7 MB 10.6 MB/s eta 0:00:01\n",
      "   --------------------------------- ------ 15.6/18.7 MB 11.7 MB/s eta 0:00:01\n",
      "   ---------------------------------- ----- 16.0/18.7 MB 11.7 MB/s eta 0:00:01\n",
      "   ----------------------------------- ---- 16.6/18.7 MB 11.7 MB/s eta 0:00:01\n",
      "   ------------------------------------ --- 17.1/18.7 MB 11.9 MB/s eta 0:00:01\n",
      "   ------------------------------------- -- 17.7/18.7 MB 12.1 MB/s eta 0:00:01\n",
      "   ---------------------------------------  18.3/18.7 MB 11.9 MB/s eta 0:00:01\n",
      "   ---------------------------------------  18.7/18.7 MB 11.7 MB/s eta 0:00:01\n",
      "   ---------------------------------------- 18.7/18.7 MB 11.3 MB/s eta 0:00:00\n",
      "Installing collected packages: pymupdf\n",
      "Successfully installed pymupdf-1.26.3\n"
     ]
    },
    {
     "name": "stderr",
     "output_type": "stream",
     "text": [
      "\n",
      "[notice] A new release of pip is available: 24.0 -> 25.1.1\n",
      "[notice] To update, run: python.exe -m pip install --upgrade pip\n"
     ]
    }
   ],
   "source": [
    "# !pip install pymupdf"
   ]
  },
  {
   "cell_type": "code",
   "execution_count": null,
   "id": "7d7bb252",
   "metadata": {},
   "outputs": [
    {
     "name": "stdout",
     "output_type": "stream",
     "text": [
      "Collecting faiss-cpu\n",
      "  Downloading faiss_cpu-1.11.0-cp311-cp311-win_amd64.whl.metadata (5.0 kB)\n",
      "Requirement already satisfied: numpy<3.0,>=1.25.0 in c:\\users\\thdck\\.pyenv\\pyenv-win\\versions\\3.11.9\\lib\\site-packages (from faiss-cpu) (1.26.4)\n",
      "Requirement already satisfied: packaging in c:\\users\\thdck\\.pyenv\\pyenv-win\\versions\\3.11.9\\lib\\site-packages (from faiss-cpu) (24.2)\n",
      "Downloading faiss_cpu-1.11.0-cp311-cp311-win_amd64.whl (15.0 MB)\n",
      "   ---------------------------------------- 0.0/15.0 MB ? eta -:--:--\n",
      "   ---------------------------------------- 0.0/15.0 MB ? eta -:--:--\n",
      "   ---------------------------------------- 0.1/15.0 MB 2.8 MB/s eta 0:00:06\n",
      "   - -------------------------------------- 0.5/15.0 MB 5.2 MB/s eta 0:00:03\n",
      "   -- ------------------------------------- 0.9/15.0 MB 5.7 MB/s eta 0:00:03\n",
      "   --- ------------------------------------ 1.4/15.0 MB 6.8 MB/s eta 0:00:02\n",
      "   ----- ---------------------------------- 2.0/15.0 MB 7.8 MB/s eta 0:00:02\n",
      "   ------ --------------------------------- 2.5/15.0 MB 8.1 MB/s eta 0:00:02\n",
      "   ------- -------------------------------- 3.0/15.0 MB 8.7 MB/s eta 0:00:02\n",
      "   --------- ------------------------------ 3.5/15.0 MB 9.0 MB/s eta 0:00:02\n",
      "   ----------- ---------------------------- 4.1/15.0 MB 9.4 MB/s eta 0:00:02\n",
      "   ------------ --------------------------- 4.6/15.0 MB 9.4 MB/s eta 0:00:02\n",
      "   ------------- -------------------------- 5.1/15.0 MB 9.9 MB/s eta 0:00:02\n",
      "   -------------- ------------------------- 5.5/15.0 MB 9.8 MB/s eta 0:00:01\n",
      "   ---------------- ----------------------- 6.1/15.0 MB 10.0 MB/s eta 0:00:01\n",
      "   ----------------- ---------------------- 6.7/15.0 MB 10.2 MB/s eta 0:00:01\n",
      "   ------------------- -------------------- 7.2/15.0 MB 10.3 MB/s eta 0:00:01\n",
      "   ------------------- -------------------- 7.5/15.0 MB 10.2 MB/s eta 0:00:01\n",
      "   ---------------------- ----------------- 8.3/15.0 MB 10.6 MB/s eta 0:00:01\n",
      "   ----------------------- ---------------- 8.9/15.0 MB 10.5 MB/s eta 0:00:01\n",
      "   ------------------------- -------------- 9.5/15.0 MB 10.6 MB/s eta 0:00:01\n",
      "   -------------------------- ------------- 10.1/15.0 MB 10.7 MB/s eta 0:00:01\n",
      "   ---------------------------- ----------- 10.6/15.0 MB 11.5 MB/s eta 0:00:01\n",
      "   ----------------------------- ---------- 11.1/15.0 MB 11.5 MB/s eta 0:00:01\n",
      "   ------------------------------ --------- 11.6/15.0 MB 11.7 MB/s eta 0:00:01\n",
      "   -------------------------------- ------- 12.1/15.0 MB 11.9 MB/s eta 0:00:01\n",
      "   --------------------------------- ------ 12.6/15.0 MB 11.7 MB/s eta 0:00:01\n",
      "   ----------------------------------- ---- 13.2/15.0 MB 11.9 MB/s eta 0:00:01\n",
      "   ------------------------------------ --- 13.8/15.0 MB 11.9 MB/s eta 0:00:01\n",
      "   -------------------------------------- - 14.4/15.0 MB 11.9 MB/s eta 0:00:01\n",
      "   ---------------------------------------  14.8/15.0 MB 11.7 MB/s eta 0:00:01\n",
      "   ---------------------------------------  15.0/15.0 MB 11.9 MB/s eta 0:00:01\n",
      "   ---------------------------------------- 15.0/15.0 MB 11.5 MB/s eta 0:00:00\n",
      "Installing collected packages: faiss-cpu\n",
      "Successfully installed faiss-cpu-1.11.0\n"
     ]
    },
    {
     "name": "stderr",
     "output_type": "stream",
     "text": [
      "\n",
      "[notice] A new release of pip is available: 24.0 -> 25.1.1\n",
      "[notice] To update, run: python.exe -m pip install --upgrade pip\n"
     ]
    }
   ],
   "source": [
    "# !pip install faiss-cpu"
   ]
  },
  {
   "cell_type": "code",
   "execution_count": 22,
   "id": "93a3cfbb",
   "metadata": {},
   "outputs": [],
   "source": [
    "from langchain_text_splitters import RecursiveCharacterTextSplitter\n",
    "from langchain_community.document_loaders import PyMuPDFLoader\n",
    "from langchain_community.vectorstores import FAISS\n",
    "from langchain_core.output_parsers import StrOutputParser\n",
    "from langchain_core.prompts import PromptTemplate\n",
    "from langchain_core.runnables import RunnablePassthrough\n",
    "from langchain_openai import ChatOpenAI, OpenAIEmbeddings"
   ]
  },
  {
   "cell_type": "code",
   "execution_count": 31,
   "id": "59709320",
   "metadata": {},
   "outputs": [
    {
     "name": "stdout",
     "output_type": "stream",
     "text": [
      "2023년 12월호\n",
      "Ⅰ. 인공지능 산업 동향 브리프\n",
      " 1. 정책/법제 \n",
      "   ▹ 미국, 안전하고 신뢰할 수 있는 AI 개발과 사용에 관한 행정명령 발표  ························· 1\n",
      "   ▹ G7, 히로시마 AI 프로세스를 통해 AI 기업 대상 국제 행동강령에 합의··························· 2\n",
      "   ▹ 영국 AI 안전성 정상회의에 참가한 28개국, AI 위험에 공동 대응 선언··························· 3\n",
      "   ▹ 미국 법원, 예술가들이 생성 AI 기업에 제기한 저작권 소송 기각····································· 4\n",
      "   ▹ 미국 연방거래위원회, 저작권청에 소비자 보호와 경쟁 측면의 AI 의견서 제출················· 5\n",
      "   ▹ EU AI 법 3자 협상, 기반모델 규제 관련 견해차로 난항··················································· 6\n",
      " \n",
      " 2. 기업/산업 \n",
      "   ▹ 미국 프런티어 모델 포럼, 1,000만 달러 규모의 AI 안전 기금 조성································ 7\n",
      "   ▹ 코히어, 데이터 투명성 확보를 위한 데이터 출처 탐색기 공개  ······································· 8\n",
      "   ▹ 알리바바 클라우드, 최신 LLM ‘통이치엔원 2.0’ 공개 ······················································ 9\n",
      "   ▹ 삼성전자, 자체 개발 생성 AI ‘삼성 가우스’ 공개 ··························································· 10\n",
      "   ▹ 구글, 앤스로픽에 20억 달러 투자로 생성 AI 협력 강화 ················································ 11\n",
      "   ▹ IDC, 2027년 AI 소프트웨어 매출 2,500억 달러 돌파 전망··········································· 12\n",
      "   ▹ 빌 게이츠, AI 에이전트로 인한 컴퓨터 사용의 패러다임 변화 전망································ 13\n",
      "   ▹ 유튜브, 2024년부터 AI 생성 콘텐츠 표시 의무화···························································· 14\n",
      " 3. 기술/연구\n",
      "   ▹ 영국 과학혁신기술부, AI 안전 연구소 설립 발표······························································ 15\n",
      "   ▹ 구글 딥마인드, 범용 AI 모델의 기능과 동작에 대한 분류 체계 발표······························ 16\n",
      "   ▹ 갈릴레오의 LLM 환각 지수 평가에서 GPT-4가 가장 우수 ··········································· 17\n",
      "   \n",
      " 4. 인력/교육     \n",
      "   ▹ 영국 옥스퍼드 인터넷 연구소, AI 기술자의 임금이 평균 21% 높아······························· 18\n",
      "   \n",
      "   \n",
      " \n",
      "Ⅱ. 주요 행사\n",
      "   ▹CES 2024 ····························································································································· 19\n",
      "   ▹AIMLA 2024 ························································································································· 19\n",
      "   ▹AAAI Conference on Artificial Intelligence ·································································· 19\n"
     ]
    },
    {
     "data": {
      "text/plain": [
       "{'producer': 'Hancom PDF 1.3.0.542',\n",
       " 'creator': 'Hwp 2018 10.0.0.13462',\n",
       " 'creationdate': '2023-12-08T13:28:38+09:00',\n",
       " 'source': 'data\\\\SPRI_AI_Brief_2023년12월호_F.pdf',\n",
       " 'file_path': 'data\\\\SPRI_AI_Brief_2023년12월호_F.pdf',\n",
       " 'total_pages': 23,\n",
       " 'format': 'PDF 1.4',\n",
       " 'title': '',\n",
       " 'author': 'dj',\n",
       " 'subject': '',\n",
       " 'keywords': '',\n",
       " 'moddate': '2023-12-08T13:28:38+09:00',\n",
       " 'trapped': '',\n",
       " 'modDate': \"D:20231208132838+09'00'\",\n",
       " 'creationDate': \"D:20231208132838+09'00'\",\n",
       " 'page': 1}"
      ]
     },
     "execution_count": 31,
     "metadata": {},
     "output_type": "execute_result"
    }
   ],
   "source": [
    "# 단계 1: 문서 로드(Load Documents)\n",
    "loader = PyMuPDFLoader(\"data\\SPRI_AI_Brief_2023년12월호_F.pdf\")\n",
    "docs = loader.load()\n",
    "print(docs[1].page_content)\n",
    "docs[1].metadata"
   ]
  },
  {
   "cell_type": "code",
   "execution_count": null,
   "id": "292b4433",
   "metadata": {},
   "outputs": [],
   "source": [
    "# 단계 2: 텍스트 분할(Split Text)\n",
    "text_splitter = RecursiveCharacterTextSplitter(chunk_size=1000, chunk_overlap=50)\n",
    "split_documents= text_splitter.split_documents(docs)"
   ]
  },
  {
   "cell_type": "code",
   "execution_count": 33,
   "id": "718d0bfe",
   "metadata": {},
   "outputs": [
    {
     "data": {
      "text/plain": [
       "43"
      ]
     },
     "execution_count": 33,
     "metadata": {},
     "output_type": "execute_result"
    }
   ],
   "source": [
    "len(split_documents)"
   ]
  },
  {
   "cell_type": "code",
   "execution_count": 36,
   "id": "34e66e90",
   "metadata": {},
   "outputs": [],
   "source": [
    "# 단계 3: 임베딩(Embedding) 생성\n",
    "embeddings = OpenAIEmbeddings()"
   ]
  },
  {
   "cell_type": "code",
   "execution_count": null,
   "id": "3f24bd0d",
   "metadata": {},
   "outputs": [],
   "source": [
    "# 단계 4: 벡터 스토어 생성(Create Vector Store)\n",
    "# 메모리 공간에 존재\n",
    "vector_store = FAISS.from_documents(split_documents, embeddings)"
   ]
  },
  {
   "cell_type": "code",
   "execution_count": 40,
   "id": "05e33f93",
   "metadata": {},
   "outputs": [
    {
     "data": {
      "text/plain": [
       "VectorStoreRetriever(tags=['FAISS', 'OpenAIEmbeddings'], vectorstore=<langchain_community.vectorstores.faiss.FAISS object at 0x00000294F8D87E90>, search_kwargs={})"
      ]
     },
     "execution_count": 40,
     "metadata": {},
     "output_type": "execute_result"
    }
   ],
   "source": [
    "# 단계 5: 검색기(Retriever) 생성\n",
    "retriever = vector_store.as_retriever()\n",
    "retriever"
   ]
  },
  {
   "cell_type": "code",
   "execution_count": 54,
   "id": "da944674",
   "metadata": {},
   "outputs": [],
   "source": [
    "# print(retriever.invoke(\"삼성전자가 개발한 생성AI는 이름은 무엇인가요?\"))"
   ]
  },
  {
   "cell_type": "code",
   "execution_count": 55,
   "id": "739e3586",
   "metadata": {},
   "outputs": [],
   "source": [
    "# 단계 6: 프롬프트 생성(Create Prompt)\n",
    "# 프롬프트를 생성합니다.\n",
    "prompt = PromptTemplate.from_template(\n",
    "    \"\"\"You are an assistant for question-answering tasks. \n",
    "Use the following pieces of retrieved context to answer the question. \n",
    "If you don't know the answer, just say that you don't know. \n",
    "You must include 'page' number in your answer.\n",
    "Answer in Korean.\n",
    "\n",
    "#Context: \n",
    "{context}\n",
    "\n",
    "#Question:\n",
    "{question}\n",
    "\n",
    "#Answer:\"\"\"\n",
    ")"
   ]
  },
  {
   "cell_type": "code",
   "execution_count": 56,
   "id": "5289916f",
   "metadata": {},
   "outputs": [],
   "source": [
    "# 단계 7: LLM 생성(Create LLM)\n",
    "llm= ChatOpenAI(\n",
    "    model=\"gpt-4o\", temperature=0)"
   ]
  },
  {
   "cell_type": "code",
   "execution_count": 57,
   "id": "b74172c6",
   "metadata": {},
   "outputs": [],
   "source": [
    "# 단계 8: 체인(chain) 생성\n",
    "chain =(\n",
    "    {\"context\": retriever, \"question\": RunnablePassthrough()}\n",
    "    | prompt\n",
    "    | llm\n",
    "    | StrOutputParser()\n",
    ")"
   ]
  },
  {
   "cell_type": "code",
   "execution_count": 58,
   "id": "991c79ba",
   "metadata": {},
   "outputs": [],
   "source": [
    "from langchain_teddynote.messages import stream_response"
   ]
  },
  {
   "cell_type": "code",
   "execution_count": 59,
   "id": "ca89035f",
   "metadata": {},
   "outputs": [
    {
     "name": "stdout",
     "output_type": "stream",
     "text": [
      "구글은 앤스로픽에 최대 20억 달러를 투자하기로 합의했으며, 이 중 5억 달러를 우선 투자했습니다. (페이지 13)"
     ]
    }
   ],
   "source": [
    "question = \"구글이 앤스로픽에 얼마를 투자했나요?\"\n",
    "response = chain.invoke(question)\n",
    "stream_response(response)"
   ]
  },
  {
   "cell_type": "markdown",
   "id": "4e34f2d3",
   "metadata": {},
   "source": [
    "제대로 된 답변이 출력되지 않는 경우 \n",
    "1. LangSmith를 확인하여 검색기가 제대로 된 문서를 검색했는지 확인 (다른 Retriever를 사용해야할 수 있음)\n",
    "2. 문서로드는 적절하게 발생하였는지 확인"
   ]
  }
 ],
 "metadata": {
  "kernelspec": {
   "display_name": "3.11.9",
   "language": "python",
   "name": "python3"
  },
  "language_info": {
   "codemirror_mode": {
    "name": "ipython",
    "version": 3
   },
   "file_extension": ".py",
   "mimetype": "text/x-python",
   "name": "python",
   "nbconvert_exporter": "python",
   "pygments_lexer": "ipython3",
   "version": "3.11.9"
  }
 },
 "nbformat": 4,
 "nbformat_minor": 5
}
